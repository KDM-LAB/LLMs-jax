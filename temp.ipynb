{
 "cells": [
  {
   "cell_type": "code",
   "execution_count": 1,
   "metadata": {},
   "outputs": [],
   "source": [
    "import jax\n",
    "import jax.numpy as jnp"
   ]
  },
  {
   "cell_type": "code",
   "execution_count": 15,
   "metadata": {},
   "outputs": [],
   "source": [
    "import jax.numpy as jnp\n",
    "\n",
    "\n",
    "def matmul_true_int8(lhs, rhs):\n",
    "  assert lhs.dtype == jnp.int8\n",
    "  print(lhs)\n",
    "  print(rhs)\n",
    "  assert rhs.dtype == jnp.int8\n",
    "  result = jnp.matmul(lhs, rhs, preferred_element_type=jnp.int32)\n",
    "  assert result.dtype == jnp.int32\n",
    "  print(result)\n",
    "  return result"
   ]
  },
  {
   "cell_type": "code",
   "execution_count": 16,
   "metadata": {},
   "outputs": [],
   "source": [
    "def gen_matrix(rows, columns):\n",
    "  import numpy as np\n",
    "  return np.random.normal(size=(rows, columns)).reshape((rows, columns))\n",
    "\n",
    "\n",
    "batch_size = 3\n",
    "channels_in = 4\n",
    "channels_out = 5\n",
    "\n",
    "\n",
    "a = gen_matrix(batch_size, channels_in) # Activations\n",
    "w = gen_matrix(channels_in, channels_out) # Weights"
   ]
  },
  {
   "cell_type": "code",
   "execution_count": 23,
   "metadata": {},
   "outputs": [],
   "source": [
    "def aqt_matmul_int8(a, w):\n",
    "  max_int8 = 127\n",
    "  \n",
    "  def quant_int8(x):\n",
    "    return jnp.clip(jnp.round(x), -max_int8, max_int8).astype(jnp.int8)\n",
    "\n",
    "\n",
    "  a_s = max_int8 / jnp.max(jnp.abs(a), axis=1, keepdims=True)\n",
    "  w_s = max_int8 / jnp.max(jnp.abs(w), axis=0, keepdims=True)\n",
    "\n",
    "  print(a_s.dtype)\n",
    "  # int8 matmul with int32 accumulator\n",
    "  result = matmul_true_int8(quant_int8(a * a_s), quant_int8(w * w_s)) / (a_s * w_s)\n",
    "  assert result.shape == (batch_size, channels_out)\n",
    "\n",
    "  return result"
   ]
  },
  {
   "cell_type": "code",
   "execution_count": null,
   "metadata": {},
   "outputs": [],
   "source": []
  },
  {
   "cell_type": "code",
   "execution_count": 24,
   "metadata": {},
   "outputs": [
    {
     "name": "stdout",
     "output_type": "stream",
     "text": [
      "jnp.matmul(a, w):\n",
      " [[ 0.405507    2.8269942   1.37993    -0.33883294  1.271378  ]\n",
      " [-4.054617    0.2763729  -0.33638394  2.1558146   0.8080269 ]\n",
      " [ 0.5041073  -2.035844    3.8957129  -2.39001    -1.8010538 ]]\n",
      "float32\n",
      "[[ -53   18    5  127]\n",
      " [  -8 -116 -127   32]\n",
      " [-127   92  -45  -54]]\n",
      "[[ -24   88 -119   55   81]\n",
      " [  97   14  127 -127 -102]\n",
      " [ 127    5 -102   40   67]\n",
      " [  -8  127  -18   27  127]]\n",
      "[[  2637  11742   5797  -1572  10335]\n",
      " [-27445   1101  -1402  10076   6739]\n",
      " [  6689 -16971  32359 -21927 -29544]]\n",
      "aqt_matmul_int8(a, w):\n",
      " [[ 0.39420462  2.8258045   1.398726   -0.34337255  1.2642894 ]\n",
      " [-4.05275     0.26173535 -0.33415842  2.1740837   0.81434137]\n",
      " [ 0.49942753 -2.0398922   3.8996367  -2.3921695  -1.8051156 ]]\n"
     ]
    }
   ],
   "source": [
    "# Test\n",
    "print(f\"jnp.matmul(a, w):\\n\", jnp.matmul(a, w))\n",
    "print(f\"aqt_matmul_int8(a, w):\\n\", aqt_matmul_int8(a, w))"
   ]
  },
  {
   "cell_type": "code",
   "execution_count": null,
   "metadata": {},
   "outputs": [],
   "source": []
  }
 ],
 "metadata": {
  "kernelspec": {
   "display_name": "Python 3",
   "language": "python",
   "name": "python3"
  },
  "language_info": {
   "codemirror_mode": {
    "name": "ipython",
    "version": 3
   },
   "file_extension": ".py",
   "mimetype": "text/x-python",
   "name": "python",
   "nbconvert_exporter": "python",
   "pygments_lexer": "ipython3",
   "version": "3.11.5"
  }
 },
 "nbformat": 4,
 "nbformat_minor": 2
}
