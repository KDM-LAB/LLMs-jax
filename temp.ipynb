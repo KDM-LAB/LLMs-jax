{
 "cells": [
  {
   "cell_type": "code",
   "execution_count": 1,
   "metadata": {},
   "outputs": [],
   "source": [
    "import jax\n",
    "import jax.numpy as jnp"
   ]
  },
  {
   "cell_type": "code",
   "execution_count": 1,
   "metadata": {},
   "outputs": [
    {
     "data": {
      "text/html": [
       "<div>\n",
       "<style scoped>\n",
       "    .dataframe tbody tr th:only-of-type {\n",
       "        vertical-align: middle;\n",
       "    }\n",
       "\n",
       "    .dataframe tbody tr th {\n",
       "        vertical-align: top;\n",
       "    }\n",
       "\n",
       "    .dataframe thead th {\n",
       "        text-align: right;\n",
       "    }\n",
       "</style>\n",
       "<table border=\"1\" class=\"dataframe\">\n",
       "  <thead>\n",
       "    <tr style=\"text-align: right;\">\n",
       "      <th></th>\n",
       "      <th>Unnamed: 0</th>\n",
       "      <th>News body</th>\n",
       "      <th>llama7b</th>\n",
       "      <th>llama13b</th>\n",
       "      <th>mistral7b</th>\n",
       "      <th>gemini-pro</th>\n",
       "    </tr>\n",
       "  </thead>\n",
       "  <tbody>\n",
       "    <tr>\n",
       "      <th>0</th>\n",
       "      <td>0</td>\n",
       "      <td>Democratic state attorney generals and environ...</td>\n",
       "      <td>NaN</td>\n",
       "      <td>Trump administration's new power plant polluti...</td>\n",
       "      <td>Why EPA's New Coal Rule is a Threat to America...</td>\n",
       "      <td>Trump's EPA Rule Weakening Power Plant Polluti...</td>\n",
       "    </tr>\n",
       "    <tr>\n",
       "      <th>1</th>\n",
       "      <td>1</td>\n",
       "      <td>We love old houses. Their architectural styles...</td>\n",
       "      <td>1970s Ranchers: The One Thing That Will Instan...</td>\n",
       "      <td>Updating Your 70's Rancher? Forget the Granite...</td>\n",
       "      <td>5 Ways to Modernize an Old Home without Breaki...</td>\n",
       "      <td>How To Avoid Making Your Kitchen Look Outdated</td>\n",
       "    </tr>\n",
       "    <tr>\n",
       "      <th>2</th>\n",
       "      <td>2</td>\n",
       "      <td>Justin Verlander made headlines earlier in the...</td>\n",
       "      <td>Justin Verlander Gets Schooled by MLB Brass on...</td>\n",
       "      <td>Justin Verlander Scolded by MLB Bigwigs for Ac...</td>\n",
       "      <td>\"Verlander Gets Lecture From Baseball Bigwigs ...</td>\n",
       "      <td>MLB Officials Confront Justin Verlander After ...</td>\n",
       "    </tr>\n",
       "    <tr>\n",
       "      <th>3</th>\n",
       "      <td>3</td>\n",
       "      <td>LOS ANGELES   O.J. Simpson launched a Twitter ...</td>\n",
       "      <td>O.J. Simpson Gets Revenge on Twitter: \"Little ...</td>\n",
       "      <td>Former Football Star O.J. Simpson Launches Twi...</td>\n",
       "      <td>71-year-old O.J. Simpson Launches New Twitter ...</td>\n",
       "      <td>O.J. Simpson Breaks Silence: 'I've Got a Littl...</td>\n",
       "    </tr>\n",
       "    <tr>\n",
       "      <th>4</th>\n",
       "      <td>4</td>\n",
       "      <td>WIMBLEDON, England (AP)   Coco Gauff grew up a...</td>\n",
       "      <td>15-Year-Old Sensation Coco Gauff Stuns Venus W...</td>\n",
       "      <td>WOW! Teen Sensation Coco Gauff Stuns Venus Wil...</td>\n",
       "      <td>15-Year-Old Coco Gauff Upsets Venus Williams a...</td>\n",
       "      <td>15-Year-Old Cori Gauff Defeats Venus Williams ...</td>\n",
       "    </tr>\n",
       "  </tbody>\n",
       "</table>\n",
       "</div>"
      ],
      "text/plain": [
       "   Unnamed: 0                                          News body  \\\n",
       "0           0  Democratic state attorney generals and environ...   \n",
       "1           1  We love old houses. Their architectural styles...   \n",
       "2           2  Justin Verlander made headlines earlier in the...   \n",
       "3           3  LOS ANGELES   O.J. Simpson launched a Twitter ...   \n",
       "4           4  WIMBLEDON, England (AP)   Coco Gauff grew up a...   \n",
       "\n",
       "                                             llama7b  \\\n",
       "0                                                NaN   \n",
       "1  1970s Ranchers: The One Thing That Will Instan...   \n",
       "2  Justin Verlander Gets Schooled by MLB Brass on...   \n",
       "3  O.J. Simpson Gets Revenge on Twitter: \"Little ...   \n",
       "4  15-Year-Old Sensation Coco Gauff Stuns Venus W...   \n",
       "\n",
       "                                            llama13b  \\\n",
       "0  Trump administration's new power plant polluti...   \n",
       "1  Updating Your 70's Rancher? Forget the Granite...   \n",
       "2  Justin Verlander Scolded by MLB Bigwigs for Ac...   \n",
       "3  Former Football Star O.J. Simpson Launches Twi...   \n",
       "4  WOW! Teen Sensation Coco Gauff Stuns Venus Wil...   \n",
       "\n",
       "                                           mistral7b  \\\n",
       "0  Why EPA's New Coal Rule is a Threat to America...   \n",
       "1  5 Ways to Modernize an Old Home without Breaki...   \n",
       "2  \"Verlander Gets Lecture From Baseball Bigwigs ...   \n",
       "3  71-year-old O.J. Simpson Launches New Twitter ...   \n",
       "4  15-Year-Old Coco Gauff Upsets Venus Williams a...   \n",
       "\n",
       "                                          gemini-pro  \n",
       "0  Trump's EPA Rule Weakening Power Plant Polluti...  \n",
       "1     How To Avoid Making Your Kitchen Look Outdated  \n",
       "2  MLB Officials Confront Justin Verlander After ...  \n",
       "3  O.J. Simpson Breaks Silence: 'I've Got a Littl...  \n",
       "4  15-Year-Old Cori Gauff Defeats Venus Williams ...  "
      ]
     },
     "execution_count": 1,
     "metadata": {},
     "output_type": "execute_result"
    }
   ],
   "source": [
    "import pandas as pd\n",
    "df = pd.read_csv('/Users/divya/Downloads/With_his_results.csv')\n",
    "\n",
    "df.head()"
   ]
  },
  {
   "cell_type": "code",
   "execution_count": 15,
   "metadata": {},
   "outputs": [],
   "source": [
    "import jax.numpy as jnp\n",
    "\n",
    "\n",
    "def matmul_true_int8(lhs, rhs):\n",
    "  assert lhs.dtype == jnp.int8\n",
    "  print(lhs)\n",
    "  print(rhs)\n",
    "  assert rhs.dtype == jnp.int8\n",
    "  result = jnp.matmul(lhs, rhs, preferred_element_type=jnp.int32)\n",
    "  assert result.dtype == jnp.int32\n",
    "  print(result)\n",
    "  return result"
   ]
  },
  {
   "cell_type": "code",
   "execution_count": 16,
   "metadata": {},
   "outputs": [],
   "source": [
    "def gen_matrix(rows, columns):\n",
    "  import numpy as np\n",
    "  return np.random.normal(size=(rows, columns)).reshape((rows, columns))\n",
    "\n",
    "\n",
    "batch_size = 3\n",
    "channels_in = 4\n",
    "channels_out = 5\n",
    "\n",
    "\n",
    "a = gen_matrix(batch_size, channels_in) # Activations\n",
    "w = gen_matrix(channels_in, channels_out) # Weights"
   ]
  },
  {
   "cell_type": "code",
   "execution_count": 23,
   "metadata": {},
   "outputs": [],
   "source": [
    "def aqt_matmul_int8(a, w):\n",
    "  max_int8 = 127\n",
    "  \n",
    "  def quant_int8(x):\n",
    "    return jnp.clip(jnp.round(x), -max_int8, max_int8).astype(jnp.int8)\n",
    "\n",
    "\n",
    "  a_s = max_int8 / jnp.max(jnp.abs(a), axis=1, keepdims=True)\n",
    "  w_s = max_int8 / jnp.max(jnp.abs(w), axis=0, keepdims=True)\n",
    "\n",
    "  print(a_s.dtype)\n",
    "  # int8 matmul with int32 accumulator\n",
    "  result = matmul_true_int8(quant_int8(a * a_s), quant_int8(w * w_s)) / (a_s * w_s)\n",
    "  assert result.shape == (batch_size, channels_out)\n",
    "\n",
    "  return result"
   ]
  },
  {
   "cell_type": "code",
   "execution_count": null,
   "metadata": {},
   "outputs": [],
   "source": []
  },
  {
   "cell_type": "code",
   "execution_count": 24,
   "metadata": {},
   "outputs": [
    {
     "name": "stdout",
     "output_type": "stream",
     "text": [
      "jnp.matmul(a, w):\n",
      " [[ 0.405507    2.8269942   1.37993    -0.33883294  1.271378  ]\n",
      " [-4.054617    0.2763729  -0.33638394  2.1558146   0.8080269 ]\n",
      " [ 0.5041073  -2.035844    3.8957129  -2.39001    -1.8010538 ]]\n",
      "float32\n",
      "[[ -53   18    5  127]\n",
      " [  -8 -116 -127   32]\n",
      " [-127   92  -45  -54]]\n",
      "[[ -24   88 -119   55   81]\n",
      " [  97   14  127 -127 -102]\n",
      " [ 127    5 -102   40   67]\n",
      " [  -8  127  -18   27  127]]\n",
      "[[  2637  11742   5797  -1572  10335]\n",
      " [-27445   1101  -1402  10076   6739]\n",
      " [  6689 -16971  32359 -21927 -29544]]\n",
      "aqt_matmul_int8(a, w):\n",
      " [[ 0.39420462  2.8258045   1.398726   -0.34337255  1.2642894 ]\n",
      " [-4.05275     0.26173535 -0.33415842  2.1740837   0.81434137]\n",
      " [ 0.49942753 -2.0398922   3.8996367  -2.3921695  -1.8051156 ]]\n"
     ]
    }
   ],
   "source": [
    "# Test\n",
    "print(f\"jnp.matmul(a, w):\\n\", jnp.matmul(a, w))\n",
    "print(f\"aqt_matmul_int8(a, w):\\n\", aqt_matmul_int8(a, w))"
   ]
  },
  {
   "cell_type": "code",
   "execution_count": null,
   "metadata": {},
   "outputs": [],
   "source": []
  }
 ],
 "metadata": {
  "kernelspec": {
   "display_name": "Python 3",
   "language": "python",
   "name": "python3"
  },
  "language_info": {
   "codemirror_mode": {
    "name": "ipython",
    "version": 3
   },
   "file_extension": ".py",
   "mimetype": "text/x-python",
   "name": "python",
   "nbconvert_exporter": "python",
   "pygments_lexer": "ipython3",
   "version": "3.9.6"
  }
 },
 "nbformat": 4,
 "nbformat_minor": 2
}
